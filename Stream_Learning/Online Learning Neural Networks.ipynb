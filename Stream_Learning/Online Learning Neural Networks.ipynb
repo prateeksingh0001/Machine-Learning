{
 "cells": [
  {
   "cell_type": "code",
   "execution_count": 9,
   "metadata": {},
   "outputs": [],
   "source": [
    "import sklearn\n",
    "import pandas as pd\n",
    "import numpy as np\n",
    "from sklearn import svm\n",
    "from sklearn.linear_model import Perceptron\n",
    "from sklearn.utils import shuffle\n",
    "import random"
   ]
  },
  {
   "cell_type": "code",
   "execution_count": 10,
   "metadata": {},
   "outputs": [],
   "source": [
    "data = pd.read_csv('Iris.csv')"
   ]
  },
  {
   "cell_type": "code",
   "execution_count": 11,
   "metadata": {},
   "outputs": [
    {
     "data": {
      "text/plain": [
       "{'Iris-setosa': 0, 'Iris-versicolor': 1, 'Iris-virginica': 2}"
      ]
     },
     "execution_count": 11,
     "metadata": {},
     "output_type": "execute_result"
    }
   ],
   "source": [
    "Classes = np.unique(data['Species'])\n",
    "class_labels = {}\n",
    "\n",
    "for x, y in enumerate(Classes):\n",
    "    class_labels[y] = x \n",
    "\n",
    "encoded_class = []\n",
    "\n",
    "for Class in Classes:\n",
    "    encoded_class.append(class_labels[Class])\n",
    "\n",
    "data = shuffle(data)\n",
    "X_train = data[['SepalLengthCm','SepalWidthCm','PetalLengthCm','PetalWidthCm']][:100]\n",
    "X_test = data[['SepalLengthCm','SepalWidthCm','PetalLengthCm','PetalWidthCm']][100:]\n",
    "class_labels"
   ]
  },
  {
   "cell_type": "code",
   "execution_count": 12,
   "metadata": {},
   "outputs": [],
   "source": [
    "Y_train = data['Species'][:100].values\n",
    "Y_test = data['Species'][100:].values\n",
    "\n",
    "for i in range(len(Y_train)):\n",
    "    Y_train[i] = class_labels[Y_train[i]]\n",
    "\n",
    "for j in range(len(Y_test)):\n",
    "    Y_test[j] = class_labels[Y_test[j]]\n",
    "Y_train = Y_train.tolist()\n",
    "Y_test = Y_test.tolist()"
   ]
  },
  {
   "cell_type": "code",
   "execution_count": 13,
   "metadata": {},
   "outputs": [
    {
     "name": "stderr",
     "output_type": "stream",
     "text": [
      "/home/prateek/.local/lib/python3.5/site-packages/sklearn/linear_model/stochastic_gradient.py:128: FutureWarning: max_iter and tol parameters have been added in <class 'sklearn.linear_model.perceptron.Perceptron'> in 0.19. If both are left unset, they default to max_iter=5 and tol=None. If tol is not None, max_iter defaults to max_iter=1000. From 0.21, default max_iter will be 1000, and default tol will be 1e-3.\n",
      "  \"and default tol will be 1e-3.\" % type(self), FutureWarning)\n"
     ]
    }
   ],
   "source": [
    "clf = Perceptron() # shuffle=True is useless here\n",
    "shuffledRange = [range(100)]\n",
    "random.shuffle(shuffledRange)\n",
    "n_iter = 20\n",
    "for n in range(n_iter):\n",
    "    shuffledX = X_train[n*5:n*5+5]\n",
    "    shuffledY = Y_train[n*5:n*5+5]\n",
    "    clf.partial_fit(shuffledX, shuffledY, classes=encoded_class)\n"
   ]
  },
  {
   "cell_type": "code",
   "execution_count": 14,
   "metadata": {},
   "outputs": [
    {
     "name": "stdout",
     "output_type": "stream",
     "text": [
      "50\n"
     ]
    }
   ],
   "source": [
    "Y_predict = clf.predict(X_test)\n",
    "print(len(Y_predict))"
   ]
  },
  {
   "cell_type": "code",
   "execution_count": 15,
   "metadata": {},
   "outputs": [
    {
     "data": {
      "text/plain": [
       "array([2, 0, 0, 2, 2, 0, 2, 0, 0, 0, 2, 2, 2, 2, 2, 0, 0, 0, 2, 0, 2, 0,\n",
       "       0, 0, 0, 0, 0, 0, 0, 0, 2, 2, 2, 0, 0, 0, 2, 0, 2, 2, 2, 0, 0, 2,\n",
       "       0, 0, 2, 2, 0, 2])"
      ]
     },
     "execution_count": 15,
     "metadata": {},
     "output_type": "execute_result"
    }
   ],
   "source": [
    "Y_predict"
   ]
  },
  {
   "cell_type": "code",
   "execution_count": 16,
   "metadata": {},
   "outputs": [
    {
     "name": "stdout",
     "output_type": "stream",
     "text": [
      "0.68\n"
     ]
    }
   ],
   "source": [
    "print(clf.score(X_test, Y_test))"
   ]
  },
  {
   "cell_type": "code",
   "execution_count": null,
   "metadata": {},
   "outputs": [],
   "source": []
  }
 ],
 "metadata": {
  "kernelspec": {
   "display_name": "Python 3",
   "language": "python",
   "name": "python3"
  },
  "language_info": {
   "codemirror_mode": {
    "name": "ipython",
    "version": 3
   },
   "file_extension": ".py",
   "mimetype": "text/x-python",
   "name": "python",
   "nbconvert_exporter": "python",
   "pygments_lexer": "ipython3",
   "version": "3.5.2"
  }
 },
 "nbformat": 4,
 "nbformat_minor": 2
}
